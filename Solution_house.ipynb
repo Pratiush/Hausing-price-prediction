{
 "cells": [
  {
   "cell_type": "code",
   "execution_count": 2,
   "metadata": {
    "collapsed": true
   },
   "outputs": [],
   "source": [
    "import pandas as pd\n",
    "import numpy as np\n",
    "import datetime"
   ]
  },
  {
   "cell_type": "code",
   "execution_count": 3,
   "metadata": {
    "collapsed": true
   },
   "outputs": [],
   "source": [
    "train=pd.read_csv('final_train_data.csv')\n"
   ]
  },
  {
   "cell_type": "code",
   "execution_count": 4,
   "metadata": {},
   "outputs": [
    {
     "data": {
      "text/html": [
       "<div>\n",
       "<style>\n",
       "    .dataframe thead tr:only-child th {\n",
       "        text-align: right;\n",
       "    }\n",
       "\n",
       "    .dataframe thead th {\n",
       "        text-align: left;\n",
       "    }\n",
       "\n",
       "    .dataframe tbody tr th {\n",
       "        vertical-align: top;\n",
       "    }\n",
       "</style>\n",
       "<table border=\"1\" class=\"dataframe\">\n",
       "  <thead>\n",
       "    <tr style=\"text-align: right;\">\n",
       "      <th></th>\n",
       "      <th>dining</th>\n",
       "      <th>River</th>\n",
       "      <th>bathrooms</th>\n",
       "      <th>space</th>\n",
       "      <th>farm</th>\n",
       "      <th>Knight</th>\n",
       "      <th>bedrooms</th>\n",
       "      <th>visit</th>\n",
       "      <th>bless</th>\n",
       "      <th>Dock</th>\n",
       "      <th>curse</th>\n",
       "      <th>Capital</th>\n",
       "      <th>Royal Market</th>\n",
       "      <th>Guarding_tower</th>\n",
       "      <th>holy_tree</th>\n",
       "      <th>renovation</th>\n",
       "      <th>price</th>\n",
       "    </tr>\n",
       "  </thead>\n",
       "  <tbody>\n",
       "    <tr>\n",
       "      <th>count</th>\n",
       "      <td>14862.000000</td>\n",
       "      <td>16500.000000</td>\n",
       "      <td>15536.000000</td>\n",
       "      <td>13112.0</td>\n",
       "      <td>16500.000000</td>\n",
       "      <td>15669.000000</td>\n",
       "      <td>15851.000000</td>\n",
       "      <td>15097.0</td>\n",
       "      <td>16500.000000</td>\n",
       "      <td>14859.000000</td>\n",
       "      <td>15502.000000</td>\n",
       "      <td>15669.000000</td>\n",
       "      <td>14146.000000</td>\n",
       "      <td>15956.000000</td>\n",
       "      <td>13234.000000</td>\n",
       "      <td>14871.000000</td>\n",
       "      <td>1.650000e+04</td>\n",
       "    </tr>\n",
       "    <tr>\n",
       "      <th>mean</th>\n",
       "      <td>3.001615</td>\n",
       "      <td>30.288848</td>\n",
       "      <td>3.007209</td>\n",
       "      <td>0.0</td>\n",
       "      <td>0.312303</td>\n",
       "      <td>53.169633</td>\n",
       "      <td>3.001514</td>\n",
       "      <td>0.0</td>\n",
       "      <td>115.142545</td>\n",
       "      <td>46.305520</td>\n",
       "      <td>0.149336</td>\n",
       "      <td>42.674021</td>\n",
       "      <td>48.715817</td>\n",
       "      <td>101.110421</td>\n",
       "      <td>0.870107</td>\n",
       "      <td>0.195817</td>\n",
       "      <td>1.306901e+06</td>\n",
       "    </tr>\n",
       "    <tr>\n",
       "      <th>std</th>\n",
       "      <td>0.816358</td>\n",
       "      <td>22.036027</td>\n",
       "      <td>0.820371</td>\n",
       "      <td>0.0</td>\n",
       "      <td>0.463447</td>\n",
       "      <td>34.367460</td>\n",
       "      <td>0.813605</td>\n",
       "      <td>0.0</td>\n",
       "      <td>34.806516</td>\n",
       "      <td>35.131047</td>\n",
       "      <td>0.356430</td>\n",
       "      <td>34.365941</td>\n",
       "      <td>34.960087</td>\n",
       "      <td>66.389095</td>\n",
       "      <td>0.336198</td>\n",
       "      <td>0.396842</td>\n",
       "      <td>1.628483e+05</td>\n",
       "    </tr>\n",
       "    <tr>\n",
       "      <th>min</th>\n",
       "      <td>2.000000</td>\n",
       "      <td>0.007765</td>\n",
       "      <td>2.000000</td>\n",
       "      <td>0.0</td>\n",
       "      <td>0.000000</td>\n",
       "      <td>10.035601</td>\n",
       "      <td>2.000000</td>\n",
       "      <td>0.0</td>\n",
       "      <td>3.000000</td>\n",
       "      <td>0.000288</td>\n",
       "      <td>0.000000</td>\n",
       "      <td>0.000714</td>\n",
       "      <td>0.011985</td>\n",
       "      <td>0.012093</td>\n",
       "      <td>0.000000</td>\n",
       "      <td>0.000000</td>\n",
       "      <td>6.250830e+05</td>\n",
       "    </tr>\n",
       "    <tr>\n",
       "      <th>25%</th>\n",
       "      <td>2.000000</td>\n",
       "      <td>12.515697</td>\n",
       "      <td>2.000000</td>\n",
       "      <td>0.0</td>\n",
       "      <td>0.000000</td>\n",
       "      <td>25.383901</td>\n",
       "      <td>2.000000</td>\n",
       "      <td>0.0</td>\n",
       "      <td>90.000000</td>\n",
       "      <td>17.746333</td>\n",
       "      <td>0.000000</td>\n",
       "      <td>14.876478</td>\n",
       "      <td>20.455767</td>\n",
       "      <td>47.177363</td>\n",
       "      <td>1.000000</td>\n",
       "      <td>0.000000</td>\n",
       "      <td>1.208923e+06</td>\n",
       "    </tr>\n",
       "    <tr>\n",
       "      <th>50%</th>\n",
       "      <td>3.000000</td>\n",
       "      <td>25.352928</td>\n",
       "      <td>3.000000</td>\n",
       "      <td>0.0</td>\n",
       "      <td>0.000000</td>\n",
       "      <td>44.084289</td>\n",
       "      <td>3.000000</td>\n",
       "      <td>0.0</td>\n",
       "      <td>124.000000</td>\n",
       "      <td>37.969819</td>\n",
       "      <td>0.000000</td>\n",
       "      <td>33.599468</td>\n",
       "      <td>41.463327</td>\n",
       "      <td>91.626909</td>\n",
       "      <td>1.000000</td>\n",
       "      <td>0.000000</td>\n",
       "      <td>1.330423e+06</td>\n",
       "    </tr>\n",
       "    <tr>\n",
       "      <th>75%</th>\n",
       "      <td>4.000000</td>\n",
       "      <td>44.503404</td>\n",
       "      <td>4.000000</td>\n",
       "      <td>0.0</td>\n",
       "      <td>1.000000</td>\n",
       "      <td>74.390126</td>\n",
       "      <td>4.000000</td>\n",
       "      <td>0.0</td>\n",
       "      <td>144.000000</td>\n",
       "      <td>68.468817</td>\n",
       "      <td>0.000000</td>\n",
       "      <td>63.844377</td>\n",
       "      <td>71.184760</td>\n",
       "      <td>146.311675</td>\n",
       "      <td>1.000000</td>\n",
       "      <td>0.000000</td>\n",
       "      <td>1.425944e+06</td>\n",
       "    </tr>\n",
       "    <tr>\n",
       "      <th>max</th>\n",
       "      <td>4.000000</td>\n",
       "      <td>99.260600</td>\n",
       "      <td>4.000000</td>\n",
       "      <td>0.0</td>\n",
       "      <td>1.000000</td>\n",
       "      <td>167.131365</td>\n",
       "      <td>4.000000</td>\n",
       "      <td>0.0</td>\n",
       "      <td>160.000000</td>\n",
       "      <td>157.658673</td>\n",
       "      <td>1.000000</td>\n",
       "      <td>156.893349</td>\n",
       "      <td>157.857240</td>\n",
       "      <td>297.334188</td>\n",
       "      <td>1.000000</td>\n",
       "      <td>1.000000</td>\n",
       "      <td>1.747559e+06</td>\n",
       "    </tr>\n",
       "  </tbody>\n",
       "</table>\n",
       "</div>"
      ],
      "text/plain": [
       "             dining         River     bathrooms    space          farm  \\\n",
       "count  14862.000000  16500.000000  15536.000000  13112.0  16500.000000   \n",
       "mean       3.001615     30.288848      3.007209      0.0      0.312303   \n",
       "std        0.816358     22.036027      0.820371      0.0      0.463447   \n",
       "min        2.000000      0.007765      2.000000      0.0      0.000000   \n",
       "25%        2.000000     12.515697      2.000000      0.0      0.000000   \n",
       "50%        3.000000     25.352928      3.000000      0.0      0.000000   \n",
       "75%        4.000000     44.503404      4.000000      0.0      1.000000   \n",
       "max        4.000000     99.260600      4.000000      0.0      1.000000   \n",
       "\n",
       "             Knight      bedrooms    visit         bless          Dock  \\\n",
       "count  15669.000000  15851.000000  15097.0  16500.000000  14859.000000   \n",
       "mean      53.169633      3.001514      0.0    115.142545     46.305520   \n",
       "std       34.367460      0.813605      0.0     34.806516     35.131047   \n",
       "min       10.035601      2.000000      0.0      3.000000      0.000288   \n",
       "25%       25.383901      2.000000      0.0     90.000000     17.746333   \n",
       "50%       44.084289      3.000000      0.0    124.000000     37.969819   \n",
       "75%       74.390126      4.000000      0.0    144.000000     68.468817   \n",
       "max      167.131365      4.000000      0.0    160.000000    157.658673   \n",
       "\n",
       "              curse       Capital  Royal Market  Guarding_tower     holy_tree  \\\n",
       "count  15502.000000  15669.000000  14146.000000    15956.000000  13234.000000   \n",
       "mean       0.149336     42.674021     48.715817      101.110421      0.870107   \n",
       "std        0.356430     34.365941     34.960087       66.389095      0.336198   \n",
       "min        0.000000      0.000714      0.011985        0.012093      0.000000   \n",
       "25%        0.000000     14.876478     20.455767       47.177363      1.000000   \n",
       "50%        0.000000     33.599468     41.463327       91.626909      1.000000   \n",
       "75%        0.000000     63.844377     71.184760      146.311675      1.000000   \n",
       "max        1.000000    156.893349    157.857240      297.334188      1.000000   \n",
       "\n",
       "         renovation         price  \n",
       "count  14871.000000  1.650000e+04  \n",
       "mean       0.195817  1.306901e+06  \n",
       "std        0.396842  1.628483e+05  \n",
       "min        0.000000  6.250830e+05  \n",
       "25%        0.000000  1.208923e+06  \n",
       "50%        0.000000  1.330423e+06  \n",
       "75%        0.000000  1.425944e+06  \n",
       "max        1.000000  1.747559e+06  "
      ]
     },
     "execution_count": 4,
     "metadata": {},
     "output_type": "execute_result"
    }
   ],
   "source": [
    "train.describe()"
   ]
  },
  {
   "cell_type": "code",
   "execution_count": 5,
   "metadata": {},
   "outputs": [],
   "source": [
    "%matplotlib inline\n",
    "\n",
    "#train.hist(figsize=(15,15))"
   ]
  },
  {
   "cell_type": "code",
   "execution_count": 6,
   "metadata": {
    "collapsed": true
   },
   "outputs": [],
   "source": [
    "# converting object type columns into numerical values\n",
    "#train['space'] = train['space'].convert_objects(convert_numeric=True)\n",
    "#train['bedrooms'] = train['bedrooms'].convert_objects(convert_numeric=True)\n",
    "#train['bathrooms'] = train['bathrooms'].convert_objects(convert_numeric=True)\n",
    "#train['bathrooms'] = train['bathrooms'].convert_objects(convert_numeric=True)\n",
    "#train['Knight'] = train['Knight'].convert_objects(convert_numeric=True)\n",
    "#train['Dock'] = train['Dock'].convert_objects(convert_numeric=True)\n",
    "#train['Capital'] = train['Capital'].convert_objects(convert_numeric=True)\n",
    "#train['Royal Market'] = train['Royal Market'].convert_objects(convert_numeric=True)\n",
    "#train['Guarding_tower'] = train['Guarding_tower'].convert_objects(convert_numeric=True)\n",
    "#train['River'] = train['River'].convert_objects(convert_numeric=True)"
   ]
  },
  {
   "cell_type": "code",
   "execution_count": 7,
   "metadata": {
    "collapsed": true
   },
   "outputs": [],
   "source": [
    "train['bathrooms']= train['bathrooms'].fillna(np.mean(train['bathrooms']))\n",
    "train['bedrooms']= train['bedrooms'].fillna(np.mean(train['bedrooms']))\n",
    "train['Capital']= train['Capital'].fillna(np.mean(train['Capital']))\n",
    "train['farm']= train['farm'].fillna(0)\n",
    "train['Royal Market']= train['Royal Market'].fillna(np.mean(train['Royal Market']))\n",
    "train['Knight']= train['Knight'].fillna(np.mean(train['Knight']))\n",
    "train['Guarding_tower']= train['Guarding_tower'].fillna(np.mean(train['Guarding_tower']))\n",
    "train['Dock']= train['Dock'].fillna(np.mean(train['Dock']))\n",
    "train['River']= train['River'].fillna(np.mean(train['River']))\n",
    "train['renovation']= train['renovation'].fillna(0)\n",
    "train['visit']= train['visit'].fillna(0.0)\n",
    "train['curse'] =train['curse'].fillna(0)\n",
    "train['holy_tree'] =train['holy_tree'].fillna(0)\n",
    "train['space'] =train['space'].fillna(0)\n",
    "train['bless'] =train['bless'].fillna(np.mean(train['bless']))\n",
    "train['space'] =train['space'].fillna(0)\n",
    "train['dining']=train['dining'].fillna(0)"
   ]
  },
  {
   "cell_type": "code",
   "execution_count": null,
   "metadata": {
    "collapsed": true
   },
   "outputs": [],
   "source": []
  },
  {
   "cell_type": "code",
   "execution_count": 8,
   "metadata": {},
   "outputs": [
    {
     "data": {
      "text/html": [
       "<div>\n",
       "<style>\n",
       "    .dataframe thead tr:only-child th {\n",
       "        text-align: right;\n",
       "    }\n",
       "\n",
       "    .dataframe thead th {\n",
       "        text-align: left;\n",
       "    }\n",
       "\n",
       "    .dataframe tbody tr th {\n",
       "        vertical-align: top;\n",
       "    }\n",
       "</style>\n",
       "<table border=\"1\" class=\"dataframe\">\n",
       "  <thead>\n",
       "    <tr style=\"text-align: right;\">\n",
       "      <th></th>\n",
       "      <th>dining</th>\n",
       "      <th>River</th>\n",
       "      <th>bathrooms</th>\n",
       "      <th>space</th>\n",
       "      <th>farm</th>\n",
       "      <th>Knight</th>\n",
       "      <th>bedrooms</th>\n",
       "      <th>visit</th>\n",
       "      <th>bless</th>\n",
       "      <th>Dock</th>\n",
       "      <th>curse</th>\n",
       "      <th>Capital</th>\n",
       "      <th>Royal Market</th>\n",
       "      <th>Guarding_tower</th>\n",
       "      <th>holy_tree</th>\n",
       "      <th>renovation</th>\n",
       "      <th>price</th>\n",
       "    </tr>\n",
       "  </thead>\n",
       "  <tbody>\n",
       "    <tr>\n",
       "      <th>dining</th>\n",
       "      <td>1.000000</td>\n",
       "      <td>-0.007488</td>\n",
       "      <td>0.009178</td>\n",
       "      <td>NaN</td>\n",
       "      <td>-0.005056</td>\n",
       "      <td>-0.006771</td>\n",
       "      <td>0.013399</td>\n",
       "      <td>NaN</td>\n",
       "      <td>0.009866</td>\n",
       "      <td>0.007215</td>\n",
       "      <td>0.017968</td>\n",
       "      <td>-0.006736</td>\n",
       "      <td>0.005563</td>\n",
       "      <td>-0.009341</td>\n",
       "      <td>-0.000932</td>\n",
       "      <td>0.003353</td>\n",
       "      <td>0.122231</td>\n",
       "    </tr>\n",
       "    <tr>\n",
       "      <th>River</th>\n",
       "      <td>-0.007488</td>\n",
       "      <td>1.000000</td>\n",
       "      <td>-0.021471</td>\n",
       "      <td>NaN</td>\n",
       "      <td>0.011165</td>\n",
       "      <td>-0.007395</td>\n",
       "      <td>0.007317</td>\n",
       "      <td>NaN</td>\n",
       "      <td>0.002576</td>\n",
       "      <td>-0.002113</td>\n",
       "      <td>0.006900</td>\n",
       "      <td>-0.007435</td>\n",
       "      <td>-0.001405</td>\n",
       "      <td>0.011107</td>\n",
       "      <td>-0.010847</td>\n",
       "      <td>-0.003303</td>\n",
       "      <td>-0.129185</td>\n",
       "    </tr>\n",
       "    <tr>\n",
       "      <th>bathrooms</th>\n",
       "      <td>0.009178</td>\n",
       "      <td>-0.021471</td>\n",
       "      <td>1.000000</td>\n",
       "      <td>NaN</td>\n",
       "      <td>0.026095</td>\n",
       "      <td>0.002766</td>\n",
       "      <td>0.004492</td>\n",
       "      <td>NaN</td>\n",
       "      <td>-0.001412</td>\n",
       "      <td>-0.002909</td>\n",
       "      <td>0.000925</td>\n",
       "      <td>0.002879</td>\n",
       "      <td>0.004972</td>\n",
       "      <td>-0.005905</td>\n",
       "      <td>-0.002510</td>\n",
       "      <td>0.018044</td>\n",
       "      <td>0.024078</td>\n",
       "    </tr>\n",
       "    <tr>\n",
       "      <th>space</th>\n",
       "      <td>NaN</td>\n",
       "      <td>NaN</td>\n",
       "      <td>NaN</td>\n",
       "      <td>NaN</td>\n",
       "      <td>NaN</td>\n",
       "      <td>NaN</td>\n",
       "      <td>NaN</td>\n",
       "      <td>NaN</td>\n",
       "      <td>NaN</td>\n",
       "      <td>NaN</td>\n",
       "      <td>NaN</td>\n",
       "      <td>NaN</td>\n",
       "      <td>NaN</td>\n",
       "      <td>NaN</td>\n",
       "      <td>NaN</td>\n",
       "      <td>NaN</td>\n",
       "      <td>NaN</td>\n",
       "    </tr>\n",
       "    <tr>\n",
       "      <th>farm</th>\n",
       "      <td>-0.005056</td>\n",
       "      <td>0.011165</td>\n",
       "      <td>0.026095</td>\n",
       "      <td>NaN</td>\n",
       "      <td>1.000000</td>\n",
       "      <td>0.022465</td>\n",
       "      <td>0.007294</td>\n",
       "      <td>NaN</td>\n",
       "      <td>-0.024177</td>\n",
       "      <td>0.007341</td>\n",
       "      <td>0.006408</td>\n",
       "      <td>0.022385</td>\n",
       "      <td>0.002639</td>\n",
       "      <td>-0.000446</td>\n",
       "      <td>-0.001472</td>\n",
       "      <td>0.007744</td>\n",
       "      <td>0.023041</td>\n",
       "    </tr>\n",
       "    <tr>\n",
       "      <th>Knight</th>\n",
       "      <td>-0.006771</td>\n",
       "      <td>-0.007395</td>\n",
       "      <td>0.002766</td>\n",
       "      <td>NaN</td>\n",
       "      <td>0.022465</td>\n",
       "      <td>1.000000</td>\n",
       "      <td>-0.003160</td>\n",
       "      <td>NaN</td>\n",
       "      <td>-0.962166</td>\n",
       "      <td>0.013884</td>\n",
       "      <td>0.009938</td>\n",
       "      <td>0.999964</td>\n",
       "      <td>0.002401</td>\n",
       "      <td>-0.003947</td>\n",
       "      <td>0.012467</td>\n",
       "      <td>0.014262</td>\n",
       "      <td>-0.870005</td>\n",
       "    </tr>\n",
       "    <tr>\n",
       "      <th>bedrooms</th>\n",
       "      <td>0.013399</td>\n",
       "      <td>0.007317</td>\n",
       "      <td>0.004492</td>\n",
       "      <td>NaN</td>\n",
       "      <td>0.007294</td>\n",
       "      <td>-0.003160</td>\n",
       "      <td>1.000000</td>\n",
       "      <td>NaN</td>\n",
       "      <td>0.003090</td>\n",
       "      <td>0.002681</td>\n",
       "      <td>-0.015182</td>\n",
       "      <td>-0.003231</td>\n",
       "      <td>0.010659</td>\n",
       "      <td>0.009289</td>\n",
       "      <td>0.012288</td>\n",
       "      <td>0.008924</td>\n",
       "      <td>0.146735</td>\n",
       "    </tr>\n",
       "    <tr>\n",
       "      <th>visit</th>\n",
       "      <td>NaN</td>\n",
       "      <td>NaN</td>\n",
       "      <td>NaN</td>\n",
       "      <td>NaN</td>\n",
       "      <td>NaN</td>\n",
       "      <td>NaN</td>\n",
       "      <td>NaN</td>\n",
       "      <td>NaN</td>\n",
       "      <td>NaN</td>\n",
       "      <td>NaN</td>\n",
       "      <td>NaN</td>\n",
       "      <td>NaN</td>\n",
       "      <td>NaN</td>\n",
       "      <td>NaN</td>\n",
       "      <td>NaN</td>\n",
       "      <td>NaN</td>\n",
       "      <td>NaN</td>\n",
       "    </tr>\n",
       "    <tr>\n",
       "      <th>bless</th>\n",
       "      <td>0.009866</td>\n",
       "      <td>0.002576</td>\n",
       "      <td>-0.001412</td>\n",
       "      <td>NaN</td>\n",
       "      <td>-0.024177</td>\n",
       "      <td>-0.962166</td>\n",
       "      <td>0.003090</td>\n",
       "      <td>NaN</td>\n",
       "      <td>1.000000</td>\n",
       "      <td>-0.012423</td>\n",
       "      <td>-0.010594</td>\n",
       "      <td>-0.962200</td>\n",
       "      <td>-0.004802</td>\n",
       "      <td>0.004882</td>\n",
       "      <td>-0.012698</td>\n",
       "      <td>-0.009597</td>\n",
       "      <td>0.846229</td>\n",
       "    </tr>\n",
       "    <tr>\n",
       "      <th>Dock</th>\n",
       "      <td>0.007215</td>\n",
       "      <td>-0.002113</td>\n",
       "      <td>-0.002909</td>\n",
       "      <td>NaN</td>\n",
       "      <td>0.007341</td>\n",
       "      <td>0.013884</td>\n",
       "      <td>0.002681</td>\n",
       "      <td>NaN</td>\n",
       "      <td>-0.012423</td>\n",
       "      <td>1.000000</td>\n",
       "      <td>0.014747</td>\n",
       "      <td>0.013765</td>\n",
       "      <td>-0.000465</td>\n",
       "      <td>-0.002854</td>\n",
       "      <td>-0.018502</td>\n",
       "      <td>-0.002238</td>\n",
       "      <td>-0.152149</td>\n",
       "    </tr>\n",
       "    <tr>\n",
       "      <th>curse</th>\n",
       "      <td>0.017968</td>\n",
       "      <td>0.006900</td>\n",
       "      <td>0.000925</td>\n",
       "      <td>NaN</td>\n",
       "      <td>0.006408</td>\n",
       "      <td>0.009938</td>\n",
       "      <td>-0.015182</td>\n",
       "      <td>NaN</td>\n",
       "      <td>-0.010594</td>\n",
       "      <td>0.014747</td>\n",
       "      <td>1.000000</td>\n",
       "      <td>0.009834</td>\n",
       "      <td>0.001811</td>\n",
       "      <td>-0.004742</td>\n",
       "      <td>-0.571804</td>\n",
       "      <td>-0.010786</td>\n",
       "      <td>-0.049021</td>\n",
       "    </tr>\n",
       "    <tr>\n",
       "      <th>Capital</th>\n",
       "      <td>-0.006736</td>\n",
       "      <td>-0.007435</td>\n",
       "      <td>0.002879</td>\n",
       "      <td>NaN</td>\n",
       "      <td>0.022385</td>\n",
       "      <td>0.999964</td>\n",
       "      <td>-0.003231</td>\n",
       "      <td>NaN</td>\n",
       "      <td>-0.962200</td>\n",
       "      <td>0.013765</td>\n",
       "      <td>0.009834</td>\n",
       "      <td>1.000000</td>\n",
       "      <td>0.002419</td>\n",
       "      <td>-0.003996</td>\n",
       "      <td>0.012472</td>\n",
       "      <td>0.014182</td>\n",
       "      <td>-0.870030</td>\n",
       "    </tr>\n",
       "    <tr>\n",
       "      <th>Royal Market</th>\n",
       "      <td>0.005563</td>\n",
       "      <td>-0.001405</td>\n",
       "      <td>0.004972</td>\n",
       "      <td>NaN</td>\n",
       "      <td>0.002639</td>\n",
       "      <td>0.002401</td>\n",
       "      <td>0.010659</td>\n",
       "      <td>NaN</td>\n",
       "      <td>-0.004802</td>\n",
       "      <td>-0.000465</td>\n",
       "      <td>0.001811</td>\n",
       "      <td>0.002419</td>\n",
       "      <td>1.000000</td>\n",
       "      <td>0.001004</td>\n",
       "      <td>-0.002773</td>\n",
       "      <td>-0.002821</td>\n",
       "      <td>-0.197924</td>\n",
       "    </tr>\n",
       "    <tr>\n",
       "      <th>Guarding_tower</th>\n",
       "      <td>-0.009341</td>\n",
       "      <td>0.011107</td>\n",
       "      <td>-0.005905</td>\n",
       "      <td>NaN</td>\n",
       "      <td>-0.000446</td>\n",
       "      <td>-0.003947</td>\n",
       "      <td>0.009289</td>\n",
       "      <td>NaN</td>\n",
       "      <td>0.004882</td>\n",
       "      <td>-0.002854</td>\n",
       "      <td>-0.004742</td>\n",
       "      <td>-0.003996</td>\n",
       "      <td>0.001004</td>\n",
       "      <td>1.000000</td>\n",
       "      <td>0.000749</td>\n",
       "      <td>0.004756</td>\n",
       "      <td>-0.130688</td>\n",
       "    </tr>\n",
       "    <tr>\n",
       "      <th>holy_tree</th>\n",
       "      <td>-0.000932</td>\n",
       "      <td>-0.010847</td>\n",
       "      <td>-0.002510</td>\n",
       "      <td>NaN</td>\n",
       "      <td>-0.001472</td>\n",
       "      <td>0.012467</td>\n",
       "      <td>0.012288</td>\n",
       "      <td>NaN</td>\n",
       "      <td>-0.012698</td>\n",
       "      <td>-0.018502</td>\n",
       "      <td>-0.571804</td>\n",
       "      <td>0.012472</td>\n",
       "      <td>-0.002773</td>\n",
       "      <td>0.000749</td>\n",
       "      <td>1.000000</td>\n",
       "      <td>-0.004232</td>\n",
       "      <td>0.126518</td>\n",
       "    </tr>\n",
       "    <tr>\n",
       "      <th>renovation</th>\n",
       "      <td>0.003353</td>\n",
       "      <td>-0.003303</td>\n",
       "      <td>0.018044</td>\n",
       "      <td>NaN</td>\n",
       "      <td>0.007744</td>\n",
       "      <td>0.014262</td>\n",
       "      <td>0.008924</td>\n",
       "      <td>NaN</td>\n",
       "      <td>-0.009597</td>\n",
       "      <td>-0.002238</td>\n",
       "      <td>-0.010786</td>\n",
       "      <td>0.014182</td>\n",
       "      <td>-0.002821</td>\n",
       "      <td>0.004756</td>\n",
       "      <td>-0.004232</td>\n",
       "      <td>1.000000</td>\n",
       "      <td>-0.009064</td>\n",
       "    </tr>\n",
       "    <tr>\n",
       "      <th>price</th>\n",
       "      <td>0.122231</td>\n",
       "      <td>-0.129185</td>\n",
       "      <td>0.024078</td>\n",
       "      <td>NaN</td>\n",
       "      <td>0.023041</td>\n",
       "      <td>-0.870005</td>\n",
       "      <td>0.146735</td>\n",
       "      <td>NaN</td>\n",
       "      <td>0.846229</td>\n",
       "      <td>-0.152149</td>\n",
       "      <td>-0.049021</td>\n",
       "      <td>-0.870030</td>\n",
       "      <td>-0.197924</td>\n",
       "      <td>-0.130688</td>\n",
       "      <td>0.126518</td>\n",
       "      <td>-0.009064</td>\n",
       "      <td>1.000000</td>\n",
       "    </tr>\n",
       "  </tbody>\n",
       "</table>\n",
       "</div>"
      ],
      "text/plain": [
       "                  dining     River  bathrooms  space      farm    Knight  \\\n",
       "dining          1.000000 -0.007488   0.009178    NaN -0.005056 -0.006771   \n",
       "River          -0.007488  1.000000  -0.021471    NaN  0.011165 -0.007395   \n",
       "bathrooms       0.009178 -0.021471   1.000000    NaN  0.026095  0.002766   \n",
       "space                NaN       NaN        NaN    NaN       NaN       NaN   \n",
       "farm           -0.005056  0.011165   0.026095    NaN  1.000000  0.022465   \n",
       "Knight         -0.006771 -0.007395   0.002766    NaN  0.022465  1.000000   \n",
       "bedrooms        0.013399  0.007317   0.004492    NaN  0.007294 -0.003160   \n",
       "visit                NaN       NaN        NaN    NaN       NaN       NaN   \n",
       "bless           0.009866  0.002576  -0.001412    NaN -0.024177 -0.962166   \n",
       "Dock            0.007215 -0.002113  -0.002909    NaN  0.007341  0.013884   \n",
       "curse           0.017968  0.006900   0.000925    NaN  0.006408  0.009938   \n",
       "Capital        -0.006736 -0.007435   0.002879    NaN  0.022385  0.999964   \n",
       "Royal Market    0.005563 -0.001405   0.004972    NaN  0.002639  0.002401   \n",
       "Guarding_tower -0.009341  0.011107  -0.005905    NaN -0.000446 -0.003947   \n",
       "holy_tree      -0.000932 -0.010847  -0.002510    NaN -0.001472  0.012467   \n",
       "renovation      0.003353 -0.003303   0.018044    NaN  0.007744  0.014262   \n",
       "price           0.122231 -0.129185   0.024078    NaN  0.023041 -0.870005   \n",
       "\n",
       "                bedrooms  visit     bless      Dock     curse   Capital  \\\n",
       "dining          0.013399    NaN  0.009866  0.007215  0.017968 -0.006736   \n",
       "River           0.007317    NaN  0.002576 -0.002113  0.006900 -0.007435   \n",
       "bathrooms       0.004492    NaN -0.001412 -0.002909  0.000925  0.002879   \n",
       "space                NaN    NaN       NaN       NaN       NaN       NaN   \n",
       "farm            0.007294    NaN -0.024177  0.007341  0.006408  0.022385   \n",
       "Knight         -0.003160    NaN -0.962166  0.013884  0.009938  0.999964   \n",
       "bedrooms        1.000000    NaN  0.003090  0.002681 -0.015182 -0.003231   \n",
       "visit                NaN    NaN       NaN       NaN       NaN       NaN   \n",
       "bless           0.003090    NaN  1.000000 -0.012423 -0.010594 -0.962200   \n",
       "Dock            0.002681    NaN -0.012423  1.000000  0.014747  0.013765   \n",
       "curse          -0.015182    NaN -0.010594  0.014747  1.000000  0.009834   \n",
       "Capital        -0.003231    NaN -0.962200  0.013765  0.009834  1.000000   \n",
       "Royal Market    0.010659    NaN -0.004802 -0.000465  0.001811  0.002419   \n",
       "Guarding_tower  0.009289    NaN  0.004882 -0.002854 -0.004742 -0.003996   \n",
       "holy_tree       0.012288    NaN -0.012698 -0.018502 -0.571804  0.012472   \n",
       "renovation      0.008924    NaN -0.009597 -0.002238 -0.010786  0.014182   \n",
       "price           0.146735    NaN  0.846229 -0.152149 -0.049021 -0.870030   \n",
       "\n",
       "                Royal Market  Guarding_tower  holy_tree  renovation     price  \n",
       "dining              0.005563       -0.009341  -0.000932    0.003353  0.122231  \n",
       "River              -0.001405        0.011107  -0.010847   -0.003303 -0.129185  \n",
       "bathrooms           0.004972       -0.005905  -0.002510    0.018044  0.024078  \n",
       "space                    NaN             NaN        NaN         NaN       NaN  \n",
       "farm                0.002639       -0.000446  -0.001472    0.007744  0.023041  \n",
       "Knight              0.002401       -0.003947   0.012467    0.014262 -0.870005  \n",
       "bedrooms            0.010659        0.009289   0.012288    0.008924  0.146735  \n",
       "visit                    NaN             NaN        NaN         NaN       NaN  \n",
       "bless              -0.004802        0.004882  -0.012698   -0.009597  0.846229  \n",
       "Dock               -0.000465       -0.002854  -0.018502   -0.002238 -0.152149  \n",
       "curse               0.001811       -0.004742  -0.571804   -0.010786 -0.049021  \n",
       "Capital             0.002419       -0.003996   0.012472    0.014182 -0.870030  \n",
       "Royal Market        1.000000        0.001004  -0.002773   -0.002821 -0.197924  \n",
       "Guarding_tower      0.001004        1.000000   0.000749    0.004756 -0.130688  \n",
       "holy_tree          -0.002773        0.000749   1.000000   -0.004232  0.126518  \n",
       "renovation         -0.002821        0.004756  -0.004232    1.000000 -0.009064  \n",
       "price              -0.197924       -0.130688   0.126518   -0.009064  1.000000  "
      ]
     },
     "execution_count": 8,
     "metadata": {},
     "output_type": "execute_result"
    }
   ],
   "source": [
    "train.corr()"
   ]
  },
  {
   "cell_type": "code",
   "execution_count": 9,
   "metadata": {
    "collapsed": true
   },
   "outputs": [],
   "source": [
    "import warnings\n",
    "warnings.filterwarnings(\"ignore\")\n",
    "import seaborn as sns\n",
    "import matplotlib.pyplot as plt\n",
    "from matplotlib.colors import ListedColormap\n",
    "sns.set(style=\"white\", color_codes=True)"
   ]
  },
  {
   "cell_type": "code",
   "execution_count": 10,
   "metadata": {},
   "outputs": [
    {
     "data": {
      "image/png": "[encoded data removed]",
      "text/plain": [
       "<matplotlib.figure.Figure at 0xbc60198>"
      ]
     },
     "metadata": {},
     "output_type": "display_data"
    }
   ],
   "source": [
    "plt.figure(figsize=(15,15)) \n",
    "sns.heatmap(train.corr(),annot=True,cmap='cubehelix_r') #draws  heatmap with input as the correlation matrix calculted by(iris.corr())\n",
    "plt.show()"
   ]
  },
  {
   "cell_type": "code",
   "execution_count": 11,
   "metadata": {},
   "outputs": [
    {
     "data": {
      "text/plain": [
       "Index([u'Location'], dtype='object')"
      ]
     },
     "execution_count": 11,
     "metadata": {},
     "output_type": "execute_result"
    }
   ],
   "source": [
    "train.columns[train.isnull().any()]"
   ]
  },
  {
   "cell_type": "code",
   "execution_count": 12,
   "metadata": {},
   "outputs": [
    {
     "data": {
      "text/html": [
       "<div>\n",
       "<style>\n",
       "    .dataframe thead tr:only-child th {\n",
       "        text-align: right;\n",
       "    }\n",
       "\n",
       "    .dataframe thead th {\n",
       "        text-align: left;\n",
       "    }\n",
       "\n",
       "    .dataframe tbody tr th {\n",
       "        vertical-align: top;\n",
       "    }\n",
       "</style>\n",
       "<table border=\"1\" class=\"dataframe\">\n",
       "  <thead>\n",
       "    <tr style=\"text-align: right;\">\n",
       "      <th></th>\n",
       "      <th>House ID</th>\n",
       "      <th>dining</th>\n",
       "      <th>River</th>\n",
       "      <th>bathrooms</th>\n",
       "      <th>built</th>\n",
       "      <th>space</th>\n",
       "      <th>farm</th>\n",
       "      <th>Knight</th>\n",
       "      <th>bedrooms</th>\n",
       "      <th>visit</th>\n",
       "      <th>...</th>\n",
       "      <th>bless</th>\n",
       "      <th>Dock</th>\n",
       "      <th>curse</th>\n",
       "      <th>Location</th>\n",
       "      <th>Capital</th>\n",
       "      <th>Royal Market</th>\n",
       "      <th>Guarding_tower</th>\n",
       "      <th>holy_tree</th>\n",
       "      <th>renovation</th>\n",
       "      <th>price</th>\n",
       "    </tr>\n",
       "  </thead>\n",
       "  <tbody>\n",
       "    <tr>\n",
       "      <th>0</th>\n",
       "      <td>6e32cec0</td>\n",
       "      <td>3.0</td>\n",
       "      <td>63.109038</td>\n",
       "      <td>3.007209</td>\n",
       "      <td>4/21/1602 12:41 AM</td>\n",
       "      <td>0.0</td>\n",
       "      <td>0</td>\n",
       "      <td>10.505662</td>\n",
       "      <td>4.000000</td>\n",
       "      <td>0.0</td>\n",
       "      <td>...</td>\n",
       "      <td>160</td>\n",
       "      <td>138.600639</td>\n",
       "      <td>0.0</td>\n",
       "      <td>King's Landing</td>\n",
       "      <td>0.256239</td>\n",
       "      <td>69.486467</td>\n",
       "      <td>14.394903</td>\n",
       "      <td>1.0</td>\n",
       "      <td>0.0</td>\n",
       "      <td>1470912</td>\n",
       "    </tr>\n",
       "    <tr>\n",
       "      <th>1</th>\n",
       "      <td>6e32cec4</td>\n",
       "      <td>2.0</td>\n",
       "      <td>53.249336</td>\n",
       "      <td>3.007209</td>\n",
       "      <td>8/23/1600 12:25 AM</td>\n",
       "      <td>0.0</td>\n",
       "      <td>1</td>\n",
       "      <td>37.249456</td>\n",
       "      <td>4.000000</td>\n",
       "      <td>0.0</td>\n",
       "      <td>...</td>\n",
       "      <td>133</td>\n",
       "      <td>16.254871</td>\n",
       "      <td>0.0</td>\n",
       "      <td>The Mountains</td>\n",
       "      <td>26.882222</td>\n",
       "      <td>34.145238</td>\n",
       "      <td>101.052598</td>\n",
       "      <td>0.0</td>\n",
       "      <td>0.0</td>\n",
       "      <td>1241030</td>\n",
       "    </tr>\n",
       "    <tr>\n",
       "      <th>2</th>\n",
       "      <td>6e32cec9</td>\n",
       "      <td>3.0</td>\n",
       "      <td>72.245533</td>\n",
       "      <td>2.000000</td>\n",
       "      <td>5/5/1600 11:39 AM</td>\n",
       "      <td>0.0</td>\n",
       "      <td>0</td>\n",
       "      <td>146.553349</td>\n",
       "      <td>3.001514</td>\n",
       "      <td>0.0</td>\n",
       "      <td>...</td>\n",
       "      <td>24</td>\n",
       "      <td>6.555428</td>\n",
       "      <td>0.0</td>\n",
       "      <td>NaN</td>\n",
       "      <td>136.448973</td>\n",
       "      <td>78.445508</td>\n",
       "      <td>88.480988</td>\n",
       "      <td>1.0</td>\n",
       "      <td>0.0</td>\n",
       "      <td>838723</td>\n",
       "    </tr>\n",
       "    <tr>\n",
       "      <th>3</th>\n",
       "      <td>6e32cece</td>\n",
       "      <td>2.0</td>\n",
       "      <td>8.059939</td>\n",
       "      <td>2.000000</td>\n",
       "      <td>2/10/1603 8:51 PM</td>\n",
       "      <td>0.0</td>\n",
       "      <td>0</td>\n",
       "      <td>29.921162</td>\n",
       "      <td>2.000000</td>\n",
       "      <td>0.0</td>\n",
       "      <td>...</td>\n",
       "      <td>140</td>\n",
       "      <td>79.724550</td>\n",
       "      <td>0.0</td>\n",
       "      <td>The Mountains</td>\n",
       "      <td>19.885265</td>\n",
       "      <td>92.698917</td>\n",
       "      <td>22.395136</td>\n",
       "      <td>0.0</td>\n",
       "      <td>0.0</td>\n",
       "      <td>1267804</td>\n",
       "    </tr>\n",
       "    <tr>\n",
       "      <th>4</th>\n",
       "      <td>6e32ced1</td>\n",
       "      <td>3.0</td>\n",
       "      <td>35.706541</td>\n",
       "      <td>2.000000</td>\n",
       "      <td>1/5/1603 2:46 AM</td>\n",
       "      <td>0.0</td>\n",
       "      <td>1</td>\n",
       "      <td>10.855780</td>\n",
       "      <td>2.000000</td>\n",
       "      <td>0.0</td>\n",
       "      <td>...</td>\n",
       "      <td>159</td>\n",
       "      <td>101.541256</td>\n",
       "      <td>0.0</td>\n",
       "      <td>The Mountains</td>\n",
       "      <td>0.519507</td>\n",
       "      <td>3.605055</td>\n",
       "      <td>81.449646</td>\n",
       "      <td>1.0</td>\n",
       "      <td>0.0</td>\n",
       "      <td>1497166</td>\n",
       "    </tr>\n",
       "  </tbody>\n",
       "</table>\n",
       "<p>5 rows × 21 columns</p>\n",
       "</div>"
      ],
      "text/plain": [
       "   House ID  dining      River  bathrooms                built  space  farm  \\\n",
       "0  6e32cec0     3.0  63.109038   3.007209  4/21/1602 12:41 AM     0.0     0   \n",
       "1  6e32cec4     2.0  53.249336   3.007209  8/23/1600 12:25 AM     0.0     1   \n",
       "2  6e32cec9     3.0  72.245533   2.000000   5/5/1600 11:39 AM     0.0     0   \n",
       "3  6e32cece     2.0   8.059939   2.000000   2/10/1603 8:51 PM     0.0     0   \n",
       "4  6e32ced1     3.0  35.706541   2.000000    1/5/1603 2:46 AM     0.0     1   \n",
       "\n",
       "       Knight  bedrooms  visit   ...    bless        Dock  curse  \\\n",
       "0   10.505662  4.000000    0.0   ...      160  138.600639    0.0   \n",
       "1   37.249456  4.000000    0.0   ...      133   16.254871    0.0   \n",
       "2  146.553349  3.001514    0.0   ...       24    6.555428    0.0   \n",
       "3   29.921162  2.000000    0.0   ...      140   79.724550    0.0   \n",
       "4   10.855780  2.000000    0.0   ...      159  101.541256    0.0   \n",
       "\n",
       "          Location     Capital  Royal Market  Guarding_tower  holy_tree  \\\n",
       "0   King's Landing    0.256239     69.486467       14.394903        1.0   \n",
       "1    The Mountains   26.882222     34.145238      101.052598        0.0   \n",
       "2              NaN  136.448973     78.445508       88.480988        1.0   \n",
       "3    The Mountains   19.885265     92.698917       22.395136        0.0   \n",
       "4    The Mountains    0.519507      3.605055       81.449646        1.0   \n",
       "\n",
       "   renovation    price  \n",
       "0         0.0  1470912  \n",
       "1         0.0  1241030  \n",
       "2         0.0   838723  \n",
       "3         0.0  1267804  \n",
       "4         0.0  1497166  \n",
       "\n",
       "[5 rows x 21 columns]"
      ]
     },
     "execution_count": 12,
     "metadata": {},
     "output_type": "execute_result"
    }
   ],
   "source": [
    "train.head(5)"
   ]
  },
  {
   "cell_type": "code",
   "execution_count": 13,
   "metadata": {
    "collapsed": true
   },
   "outputs": [],
   "source": [
    "train['Location'] = train['Location'].fillna(\"cms\")"
   ]
  },
  {
   "cell_type": "code",
   "execution_count": 14,
   "metadata": {
    "collapsed": true
   },
   "outputs": [],
   "source": [
    "location_map= {\" King's Landing\":0,\" The Mountains\":1,\" Servant's Premises\":2,\" Cursed Land\":3,\"cms\" :4 }"
   ]
  },
  {
   "cell_type": "code",
   "execution_count": 15,
   "metadata": {
    "collapsed": true
   },
   "outputs": [],
   "source": [
    "train['Location'] = train['Location'].apply(lambda x: location_map[x])"
   ]
  },
  {
   "cell_type": "code",
   "execution_count": 16,
   "metadata": {},
   "outputs": [
    {
     "data": {
      "text/plain": [
       "dtype('int64')"
      ]
     },
     "execution_count": 16,
     "metadata": {},
     "output_type": "execute_result"
    }
   ],
   "source": [
    "train['Location'].dtype"
   ]
  },
  {
   "cell_type": "code",
   "execution_count": 17,
   "metadata": {},
   "outputs": [
    {
     "data": {
      "text/plain": [
       "array([0, 1, 4, 2, 3], dtype=int64)"
      ]
     },
     "execution_count": 17,
     "metadata": {},
     "output_type": "execute_result"
    }
   ],
   "source": [
    "uniq = train.Location.unique()\n",
    "uniq"
   ]
  },
  {
   "cell_type": "code",
   "execution_count": 18,
   "metadata": {},
   "outputs": [
    {
     "data": {
      "text/plain": [
       "Series([], dtype: float64)"
      ]
     },
     "execution_count": 18,
     "metadata": {},
     "output_type": "execute_result"
    }
   ],
   "source": [
    "miss= train.isnull().sum()/len(train)\n",
    "miss= miss[miss>0]\n",
    "miss\n",
    "# no missing values "
   ]
  },
  {
   "cell_type": "code",
   "execution_count": 19,
   "metadata": {
    "collapsed": true
   },
   "outputs": [],
   "source": [
    "# converting date-time string into Datetime object to extract year ,month .....\n",
    "train['month']=(train['priced'].to_string().lstrip()).split('/')[0];\n",
    "train['day']=(train['priced'].to_string()).split('/')[1];\n",
    "train['year']=((train['priced'].to_string()).split('/')[2]).split(' ')[0];\n"
   ]
  },
  {
   "cell_type": "code",
   "execution_count": 20,
   "metadata": {
    "collapsed": true
   },
   "outputs": [],
   "source": [
    "train['month_b']=(train['built'].to_string().lstrip()).split('/')[0];\n",
    "train['day_b']=(train['built'].to_string()).split('/')[1];\n",
    "train['year_b']=((train['built'].to_string()).split('/')[2]).split(' ')[0];"
   ]
  },
  {
   "cell_type": "code",
   "execution_count": 21,
   "metadata": {
    "collapsed": true
   },
   "outputs": [],
   "source": [
    "train['month'] = (train['month'].to_string().lstrip()).split(' ')[1]\n",
    "train['month_b'] = (train['month_b'].to_string().lstrip()).split(' ')[1]"
   ]
  },
  {
   "cell_type": "code",
   "execution_count": 22,
   "metadata": {},
   "outputs": [
    {
     "data": {
      "text/html": [
       "<div>\n",
       "<style>\n",
       "    .dataframe thead tr:only-child th {\n",
       "        text-align: right;\n",
       "    }\n",
       "\n",
       "    .dataframe thead th {\n",
       "        text-align: left;\n",
       "    }\n",
       "\n",
       "    .dataframe tbody tr th {\n",
       "        vertical-align: top;\n",
       "    }\n",
       "</style>\n",
       "<table border=\"1\" class=\"dataframe\">\n",
       "  <thead>\n",
       "    <tr style=\"text-align: right;\">\n",
       "      <th></th>\n",
       "      <th>House ID</th>\n",
       "      <th>dining</th>\n",
       "      <th>River</th>\n",
       "      <th>bathrooms</th>\n",
       "      <th>built</th>\n",
       "      <th>space</th>\n",
       "      <th>farm</th>\n",
       "      <th>Knight</th>\n",
       "      <th>bedrooms</th>\n",
       "      <th>visit</th>\n",
       "      <th>...</th>\n",
       "      <th>Guarding_tower</th>\n",
       "      <th>holy_tree</th>\n",
       "      <th>renovation</th>\n",
       "      <th>price</th>\n",
       "      <th>month</th>\n",
       "      <th>day</th>\n",
       "      <th>year</th>\n",
       "      <th>month_b</th>\n",
       "      <th>day_b</th>\n",
       "      <th>year_b</th>\n",
       "    </tr>\n",
       "  </thead>\n",
       "  <tbody>\n",
       "    <tr>\n",
       "      <th>0</th>\n",
       "      <td>6e32cec0</td>\n",
       "      <td>3.0</td>\n",
       "      <td>63.109038</td>\n",
       "      <td>3.007209</td>\n",
       "      <td>4/21/1602 12:41 AM</td>\n",
       "      <td>0.0</td>\n",
       "      <td>0</td>\n",
       "      <td>10.505662</td>\n",
       "      <td>4.0</td>\n",
       "      <td>0.0</td>\n",
       "      <td>...</td>\n",
       "      <td>14.394903</td>\n",
       "      <td>1.0</td>\n",
       "      <td>0.0</td>\n",
       "      <td>1470912</td>\n",
       "      <td></td>\n",
       "      <td>9</td>\n",
       "      <td>1609</td>\n",
       "      <td></td>\n",
       "      <td>21</td>\n",
       "      <td>1602</td>\n",
       "    </tr>\n",
       "    <tr>\n",
       "      <th>1</th>\n",
       "      <td>6e32cec4</td>\n",
       "      <td>2.0</td>\n",
       "      <td>53.249336</td>\n",
       "      <td>3.007209</td>\n",
       "      <td>8/23/1600 12:25 AM</td>\n",
       "      <td>0.0</td>\n",
       "      <td>1</td>\n",
       "      <td>37.249456</td>\n",
       "      <td>4.0</td>\n",
       "      <td>0.0</td>\n",
       "      <td>...</td>\n",
       "      <td>101.052598</td>\n",
       "      <td>0.0</td>\n",
       "      <td>0.0</td>\n",
       "      <td>1241030</td>\n",
       "      <td></td>\n",
       "      <td>9</td>\n",
       "      <td>1609</td>\n",
       "      <td></td>\n",
       "      <td>21</td>\n",
       "      <td>1602</td>\n",
       "    </tr>\n",
       "  </tbody>\n",
       "</table>\n",
       "<p>2 rows × 27 columns</p>\n",
       "</div>"
      ],
      "text/plain": [
       "   House ID  dining      River  bathrooms                built  space  farm  \\\n",
       "0  6e32cec0     3.0  63.109038   3.007209  4/21/1602 12:41 AM     0.0     0   \n",
       "1  6e32cec4     2.0  53.249336   3.007209  8/23/1600 12:25 AM     0.0     1   \n",
       "\n",
       "      Knight  bedrooms  visit   ...   Guarding_tower  holy_tree  renovation  \\\n",
       "0  10.505662       4.0    0.0   ...        14.394903        1.0         0.0   \n",
       "1  37.249456       4.0    0.0   ...       101.052598        0.0         0.0   \n",
       "\n",
       "     price  month  day  year  month_b  day_b  year_b  \n",
       "0  1470912           9  1609              21    1602  \n",
       "1  1241030           9  1609              21    1602  \n",
       "\n",
       "[2 rows x 27 columns]"
      ]
     },
     "execution_count": 22,
     "metadata": {},
     "output_type": "execute_result"
    }
   ],
   "source": [
    "train.head(2)"
   ]
  },
  {
   "cell_type": "code",
   "execution_count": 23,
   "metadata": {},
   "outputs": [
    {
     "data": {
      "text/plain": [
       "0.94289876409473827"
      ]
     },
     "execution_count": 23,
     "metadata": {},
     "output_type": "execute_result"
    },
    {
     "data": {
      "image/png": "[encoded data removed]",
      "text/plain": [
       "<matplotlib.figure.Figure at 0xbd0bef0>"
      ]
     },
     "metadata": {},
     "output_type": "display_data"
    }
   ],
   "source": [
    "sns.distplot(train['Capital'])\n",
    "train['Capital'].skew()"
   ]
  },
  {
   "cell_type": "code",
   "execution_count": 24,
   "metadata": {},
   "outputs": [
    {
     "data": {
      "text/plain": [
       "0.85373114872889488"
      ]
     },
     "execution_count": 24,
     "metadata": {},
     "output_type": "execute_result"
    },
    {
     "data": {
      "image/png": "[encoded data removed]",
      "text/plain": [
       "<matplotlib.figure.Figure at 0xbd0b048>"
      ]
     },
     "metadata": {},
     "output_type": "display_data"
    }
   ],
   "source": [
    "sns.distplot(train['Dock'])\n",
    "train['Dock'].skew()"
   ]
  },
  {
   "cell_type": "code",
   "execution_count": 25,
   "metadata": {},
   "outputs": [
    {
     "data": {
      "text/plain": [
       "0.75667917499101411"
      ]
     },
     "execution_count": 25,
     "metadata": {},
     "output_type": "execute_result"
    },
    {
     "data": {
      "image/png": "[encoded data removed]",
      "text/plain": [
       "<matplotlib.figure.Figure at 0xe779940>"
      ]
     },
     "metadata": {},
     "output_type": "display_data"
    }
   ],
   "source": [
    "sns.distplot(train['River'])\n",
    "train['River'].skew()"
   ]
  },
  {
   "cell_type": "code",
   "execution_count": 26,
   "metadata": {},
   "outputs": [
    {
     "data": {
      "text/plain": [
       "0.94289876409473827"
      ]
     },
     "execution_count": 26,
     "metadata": {},
     "output_type": "execute_result"
    },
    {
     "data": {
      "image/png": "[encoded data removed]",
      "text/plain": [
       "<matplotlib.figure.Figure at 0xe427828>"
      ]
     },
     "metadata": {},
     "output_type": "display_data"
    }
   ],
   "source": [
    "sns.distplot(train['Capital'])\n",
    "train['Capital'].skew()"
   ]
  },
  {
   "cell_type": "code",
   "execution_count": 27,
   "metadata": {
    "collapsed": true
   },
   "outputs": [],
   "source": [
    "import warnings\n",
    "warnings.filterwarnings(\"ignore\")\n",
    "import seaborn as sns\n",
    "import matplotlib.pyplot as plt\n",
    "from matplotlib.colors import ListedColormap\n",
    "sns.set(style=\"white\", color_codes=True)"
   ]
  },
  {
   "cell_type": "code",
   "execution_count": 28,
   "metadata": {},
   "outputs": [
    {
     "name": "stderr",
     "output_type": "stream",
     "text": [
      "C:\\Users\\Dell\\Anaconda2\\lib\\site-packages\\sklearn\\cross_validation.py:44: DeprecationWarning: This module was deprecated in version 0.18 in favor of the model_selection module into which all the refactored classes and functions are moved. Also note that the interface of the new CV iterators are different from that of this module. This module will be removed in 0.20.\n",
      "  \"This module will be removed in 0.20.\", DeprecationWarning)\n"
     ]
    }
   ],
   "source": [
    "from sklearn.linear_model import LinearRegression  # for Logistic Regression algorithm\n",
    "from sklearn.cross_validation import train_test_split #to split the dataset for training and testing\n",
    "from sklearn import metrics                          #for checking the model accuracy\n",
    "from sklearn.tree import DecisionTreeClassifier          #for using Decision Tree Algoithm\n",
    "from sklearn.ensemble import RandomForestClassifier      # A combine model of many decision trees\n",
    "from sklearn.cross_validation import cross_val_score , KFold\n",
    "#DecisionTreeRegressor\n",
    "from sklearn.tree import DecisionTreeRegressor\n",
    "#RandomForestRegressor\n",
    "from sklearn.ensemble import RandomForestRegressor"
   ]
  },
  {
   "cell_type": "code",
   "execution_count": 29,
   "metadata": {},
   "outputs": [
    {
     "data": {
      "text/plain": [
       "Index([u'House ID', u'dining', u'River', u'bathrooms', u'built', u'space',\n",
       "       u'farm', u'Knight', u'bedrooms', u'visit', u'priced', u'bless', u'Dock',\n",
       "       u'curse', u'Location', u'Capital', u'Royal Market', u'Guarding_tower',\n",
       "       u'holy_tree', u'renovation', u'price', u'month', u'day', u'year',\n",
       "       u'month_b', u'day_b', u'year_b'],\n",
       "      dtype='object')"
      ]
     },
     "execution_count": 29,
     "metadata": {},
     "output_type": "execute_result"
    }
   ],
   "source": [
    "train.columns"
   ]
  },
  {
   "cell_type": "code",
   "execution_count": 30,
   "metadata": {
    "collapsed": true
   },
   "outputs": [],
   "source": [
    "#train.info()\n"
   ]
  },
  {
   "cell_type": "code",
   "execution_count": 31,
   "metadata": {},
   "outputs": [
    {
     "data": {
      "text/html": [
       "<div>\n",
       "<style>\n",
       "    .dataframe thead tr:only-child th {\n",
       "        text-align: right;\n",
       "    }\n",
       "\n",
       "    .dataframe thead th {\n",
       "        text-align: left;\n",
       "    }\n",
       "\n",
       "    .dataframe tbody tr th {\n",
       "        vertical-align: top;\n",
       "    }\n",
       "</style>\n",
       "<table border=\"1\" class=\"dataframe\">\n",
       "  <thead>\n",
       "    <tr style=\"text-align: right;\">\n",
       "      <th></th>\n",
       "      <th>House ID</th>\n",
       "      <th>dining</th>\n",
       "      <th>River</th>\n",
       "      <th>bathrooms</th>\n",
       "      <th>built</th>\n",
       "      <th>space</th>\n",
       "      <th>farm</th>\n",
       "      <th>Knight</th>\n",
       "      <th>bedrooms</th>\n",
       "      <th>visit</th>\n",
       "      <th>...</th>\n",
       "      <th>Guarding_tower</th>\n",
       "      <th>holy_tree</th>\n",
       "      <th>renovation</th>\n",
       "      <th>price</th>\n",
       "      <th>month</th>\n",
       "      <th>day</th>\n",
       "      <th>year</th>\n",
       "      <th>month_b</th>\n",
       "      <th>day_b</th>\n",
       "      <th>year_b</th>\n",
       "    </tr>\n",
       "  </thead>\n",
       "  <tbody>\n",
       "    <tr>\n",
       "      <th>0</th>\n",
       "      <td>6e32cec0</td>\n",
       "      <td>3.0</td>\n",
       "      <td>63.109038</td>\n",
       "      <td>3.007209</td>\n",
       "      <td>4/21/1602 12:41 AM</td>\n",
       "      <td>0.0</td>\n",
       "      <td>0</td>\n",
       "      <td>10.505662</td>\n",
       "      <td>4.0</td>\n",
       "      <td>0.0</td>\n",
       "      <td>...</td>\n",
       "      <td>14.394903</td>\n",
       "      <td>1.0</td>\n",
       "      <td>0.0</td>\n",
       "      <td>1470912</td>\n",
       "      <td></td>\n",
       "      <td>9</td>\n",
       "      <td>1609</td>\n",
       "      <td></td>\n",
       "      <td>21</td>\n",
       "      <td>1602</td>\n",
       "    </tr>\n",
       "  </tbody>\n",
       "</table>\n",
       "<p>1 rows × 27 columns</p>\n",
       "</div>"
      ],
      "text/plain": [
       "   House ID  dining      River  bathrooms                built  space  farm  \\\n",
       "0  6e32cec0     3.0  63.109038   3.007209  4/21/1602 12:41 AM     0.0     0   \n",
       "\n",
       "      Knight  bedrooms  visit   ...   Guarding_tower  holy_tree  renovation  \\\n",
       "0  10.505662       4.0    0.0   ...        14.394903        1.0         0.0   \n",
       "\n",
       "     price  month  day  year  month_b  day_b  year_b  \n",
       "0  1470912           9  1609              21    1602  \n",
       "\n",
       "[1 rows x 27 columns]"
      ]
     },
     "execution_count": 31,
     "metadata": {},
     "output_type": "execute_result"
    }
   ],
   "source": [
    "train.head(1)"
   ]
  },
  {
   "cell_type": "code",
   "execution_count": 32,
   "metadata": {
    "collapsed": true
   },
   "outputs": [],
   "source": [
    "train['year']= train['year'].astype(str).astype(int)\n",
    "#train['month']= train['month'].astype(str).astype(int)\n",
    "train['day']= train['day'].astype(str).astype(int)\n",
    "train['year_b']= train['year_b'].astype(str).astype(int)\n",
    "#train['month_b']= train['month_b'].astype(str).astype(int)\n",
    "train['day_b']= train['day_b'].astype(str).astype(int)"
   ]
  },
  {
   "cell_type": "code",
   "execution_count": 65,
   "metadata": {},
   "outputs": [],
   "source": [
    "# age of house = year_priced -year_built\n",
    "\n",
    "train['old'] = train['year']-train['year_b']\n",
    "train['old'].dtype\n",
    "train['old']= train['old'].fillna(5)"
   ]
  },
  {
   "cell_type": "code",
   "execution_count": 67,
   "metadata": {},
   "outputs": [
    {
     "data": {
      "text/plain": [
       "0        1470912\n",
       "1        1241030\n",
       "2         838723\n",
       "3        1267804\n",
       "4        1497166\n",
       "5        1428460\n",
       "6        1453568\n",
       "7        1381186\n",
       "8        1052137\n",
       "9        1473032\n",
       "10       1442065\n",
       "11       1583875\n",
       "12       1430528\n",
       "13        957702\n",
       "14       1330487\n",
       "15       1309373\n",
       "16       1109247\n",
       "17       1185887\n",
       "18       1219965\n",
       "19       1322296\n",
       "20       1468637\n",
       "21       1017577\n",
       "22       1150209\n",
       "23       1351400\n",
       "24       1226995\n",
       "25       1328810\n",
       "26       1273623\n",
       "27       1263657\n",
       "28       1386556\n",
       "29       1620012\n",
       "          ...   \n",
       "16470    1234429\n",
       "16471    1402628\n",
       "16472    1123673\n",
       "16473    1509169\n",
       "16474    1253495\n",
       "16475    1202389\n",
       "16476    1451323\n",
       "16477    1277001\n",
       "16478    1145641\n",
       "16479    1279137\n",
       "16480    1490937\n",
       "16481     950006\n",
       "16482    1304405\n",
       "16483    1311532\n",
       "16484    1430712\n",
       "16485    1289203\n",
       "16486    1145425\n",
       "16487    1456688\n",
       "16488    1375739\n",
       "16489    1182392\n",
       "16490    1047363\n",
       "16491    1316977\n",
       "16492    1273506\n",
       "16493    1006449\n",
       "16494    1182832\n",
       "16495    1459704\n",
       "16496    1483771\n",
       "16497    1312739\n",
       "16498    1298601\n",
       "16499    1538798\n",
       "Name: price, Length: 16500, dtype: int64"
      ]
     },
     "execution_count": 67,
     "metadata": {},
     "output_type": "execute_result"
    }
   ],
   "source": [
    "train['price']"
   ]
  },
  {
   "cell_type": "code",
   "execution_count": 66,
   "metadata": {},
   "outputs": [
    {
     "data": {
      "text/html": [
       "<div>\n",
       "<style>\n",
       "    .dataframe thead tr:only-child th {\n",
       "        text-align: right;\n",
       "    }\n",
       "\n",
       "    .dataframe thead th {\n",
       "        text-align: left;\n",
       "    }\n",
       "\n",
       "    .dataframe tbody tr th {\n",
       "        vertical-align: top;\n",
       "    }\n",
       "</style>\n",
       "<table border=\"1\" class=\"dataframe\">\n",
       "  <thead>\n",
       "    <tr style=\"text-align: right;\">\n",
       "      <th></th>\n",
       "      <th>old</th>\n",
       "      <th>price</th>\n",
       "    </tr>\n",
       "  </thead>\n",
       "  <tbody>\n",
       "    <tr>\n",
       "      <th>old</th>\n",
       "      <td>NaN</td>\n",
       "      <td>NaN</td>\n",
       "    </tr>\n",
       "    <tr>\n",
       "      <th>price</th>\n",
       "      <td>NaN</td>\n",
       "      <td>1.0</td>\n",
       "    </tr>\n",
       "  </tbody>\n",
       "</table>\n",
       "</div>"
      ],
      "text/plain": [
       "       old  price\n",
       "old    NaN    NaN\n",
       "price  NaN    1.0"
      ]
     },
     "execution_count": 66,
     "metadata": {},
     "output_type": "execute_result"
    }
   ],
   "source": [
    "# correlation between old and price\n",
    "c = train[['old','price']]\n",
    "c.corr()"
   ]
  },
  {
   "cell_type": "code",
   "execution_count": null,
   "metadata": {
    "collapsed": true
   },
   "outputs": [],
   "source": []
  },
  {
   "cell_type": "code",
   "execution_count": 34,
   "metadata": {
    "collapsed": true
   },
   "outputs": [],
   "source": [
    "#train['bless'] = np.log(train['bless'])"
   ]
  },
  {
   "cell_type": "code",
   "execution_count": 35,
   "metadata": {},
   "outputs": [
    {
     "data": {
      "text/plain": [
       "0.75667917499101411"
      ]
     },
     "execution_count": 35,
     "metadata": {},
     "output_type": "execute_result"
    }
   ],
   "source": [
    "train['River'].skew()"
   ]
  },
  {
   "cell_type": "code",
   "execution_count": 36,
   "metadata": {
    "collapsed": true
   },
   "outputs": [],
   "source": [
    "# inverse transform\n",
    "#train['Capital'] = 1/train['Capital']"
   ]
  },
  {
   "cell_type": "code",
   "execution_count": 37,
   "metadata": {},
   "outputs": [
    {
     "data": {
      "text/plain": [
       "\"train['Dock'] = np.log(train['Dock'])\\ntrain['River'] =np.log(train['River'])\\ntrain['Royal Market'] = np.log(train['Royal Market'])\\ntrain['Guarding_tower'] = np.log(train['Guarding_tower'])\""
      ]
     },
     "execution_count": 37,
     "metadata": {},
     "output_type": "execute_result"
    }
   ],
   "source": [
    "'''train['Dock'] = np.log(train['Dock'])\n",
    "train['River'] =np.log(train['River'])\n",
    "train['Royal Market'] = np.log(train['Royal Market'])\n",
    "train['Guarding_tower'] = np.log(train['Guarding_tower'])'''"
   ]
  },
  {
   "cell_type": "code",
   "execution_count": 38,
   "metadata": {
    "collapsed": true
   },
   "outputs": [],
   "source": [
    "#train['bless'] = np.log(train['bless'])"
   ]
  },
  {
   "cell_type": "code",
   "execution_count": 39,
   "metadata": {
    "collapsed": true
   },
   "outputs": [],
   "source": [
    "X = train[['dining','River','bathrooms','old','farm','bedrooms','bless','Dock','curse','Location','Capital','Royal Market','Guarding_tower','holy_tree','renovation','year','day','day_b','year_b']]\n",
    "Y = train[['price']]\n",
    "X_train,X_test,Y_train,Y_test = train_test_split(X,Y,test_size=0.32,random_state=225)"
   ]
  },
  {
   "cell_type": "code",
   "execution_count": 40,
   "metadata": {},
   "outputs": [
    {
     "name": "stdout",
     "output_type": "stream",
     "text": [
      " R^2 Accuracy of RFR is 0.904295497369\n"
     ]
    }
   ],
   "source": [
    "model_1 = RandomForestRegressor(n_estimators=300, max_depth=13, min_samples_split=11, min_samples_leaf=7, min_weight_fraction_leaf=0.0, max_features=11, max_leaf_nodes=None, min_impurity_split=0.0,random_state=7)\n",
    "model_1.fit(X_train,Y_train)\n",
    "predict_1 =model_1.predict(X_test)\n",
    "print \" R^2 Accuracy of RFR is {0}\".format(metrics.r2_score(Y_test,predict_1))"
   ]
  },
  {
   "cell_type": "markdown",
   "metadata": {},
   "source": [
    "R^2 Accuracy of RFR is 0.897080125194 , with no log transform\n",
    "R^2 Accuracy of RFR is 0.898021858216 , log \n",
    "R^2 Accuracy of RFR is 0.899291565089 , Knight removed\n",
    "R^2 Accuracy of RFR is 0.904690020326 ,tree=300 ,\n"
   ]
  },
  {
   "cell_type": "code",
   "execution_count": 41,
   "metadata": {},
   "outputs": [
    {
     "name": "stdout",
     "output_type": "stream",
     "text": [
      " R^2 Accuracy of LR is 0.924681668979\n"
     ]
    }
   ],
   "source": [
    "model_2 = LinearRegression()\n",
    "model_2.fit(X_train,Y_train)\n",
    "predict_2 =model_2.predict(X_test)\n",
    "print \" R^2 Accuracy of LR is {0}\".format(metrics.r2_score(Y_test,predict_2))"
   ]
  },
  {
   "cell_type": "raw",
   "metadata": {},
   "source": [
    " R^2 Accuracy of LR is 0.924681668979 ,no transform "
   ]
  },
  {
   "cell_type": "code",
   "execution_count": 42,
   "metadata": {
    "collapsed": true
   },
   "outputs": [],
   "source": [
    "test = pd.read_csv('final_test_data.csv')"
   ]
  },
  {
   "cell_type": "code",
   "execution_count": 43,
   "metadata": {
    "collapsed": true
   },
   "outputs": [],
   "source": [
    "test['bathrooms']= test['bathrooms'].fillna(np.mean(test['bathrooms']))\n",
    "test['bedrooms']= test['bedrooms'].fillna(np.mean(test['bedrooms']))\n",
    "test['Capital']= test['Capital'].fillna(np.mean(test['Capital']))\n",
    "test['farm']= test['farm'].fillna(0)\n",
    "test['Royal Market']= test['Royal Market'].fillna(np.mean(test['Royal Market']))\n",
    "test['Knight']= test['Knight'].fillna(np.mean(test['Knight']))\n",
    "test['Guarding_tower']= test['Guarding_tower'].fillna(np.mean(test['Guarding_tower']))\n",
    "test['Dock']= test['Dock'].fillna(np.mean(test['Dock']))\n",
    "test['River']= test['River'].fillna(np.mean(test['River']))\n",
    "test['renovation']= test['renovation'].fillna(0)\n",
    "test['visit']= test['visit'].fillna(0.0)\n",
    "test['curse'] =test['curse'].fillna(0)\n",
    "test['holy_tree'] =test['holy_tree'].fillna(0)\n",
    "test['space'] =test['space'].fillna(0)\n",
    "test['bless'] =test['bless'].fillna(np.mean(test['bless']))\n",
    "test['space'] =test['space'].fillna(0)\n",
    "test['dining']=test['dining'].fillna(0)"
   ]
  },
  {
   "cell_type": "code",
   "execution_count": 44,
   "metadata": {
    "collapsed": true
   },
   "outputs": [],
   "source": [
    "test['Location'] = test['Location'].fillna(\"cms\")"
   ]
  },
  {
   "cell_type": "code",
   "execution_count": 45,
   "metadata": {
    "collapsed": true
   },
   "outputs": [],
   "source": [
    "test['Location'] = test['Location'].apply(lambda x: location_map[x])"
   ]
  },
  {
   "cell_type": "code",
   "execution_count": 46,
   "metadata": {
    "collapsed": true
   },
   "outputs": [],
   "source": [
    "# converting date-time string into Datetime object to extract year ,month .....\n",
    "test['month']=(test['priced'].to_string().lstrip()).split('/')[0];\n",
    "test['day']=(test['priced'].to_string()).split('/')[1];\n",
    "test['year']=((test['priced'].to_string()).split('/')[2]).split(' ')[0];\n"
   ]
  },
  {
   "cell_type": "code",
   "execution_count": 47,
   "metadata": {
    "collapsed": true
   },
   "outputs": [],
   "source": [
    "test['month_b']=(test['built'].to_string().lstrip()).split('/')[0];\n",
    "test['day_b']=(test['built'].to_string()).split('/')[1];\n",
    "test['year_b']=((test['built'].to_string()).split('/')[2]).split(' ')[0];"
   ]
  },
  {
   "cell_type": "code",
   "execution_count": 48,
   "metadata": {
    "collapsed": true
   },
   "outputs": [],
   "source": [
    "test['month'] = (test['month'].to_string().lstrip()).split(' ')[1]\n",
    "test['month_b'] = (test['month_b'].to_string().lstrip()).split(' ')[1]"
   ]
  },
  {
   "cell_type": "code",
   "execution_count": 49,
   "metadata": {
    "collapsed": true
   },
   "outputs": [],
   "source": [
    "test['year']= test['year'].astype(str).astype(int)\n",
    "#train['month']= train['month'].astype(str).astype(int)\n",
    "test['day']= test['day'].astype(str).astype(int)\n",
    "test['year_b']= test['year_b'].astype(str).astype(int)\n",
    "#train['month_b']= train['month_b'].astype(str).astype(int)\n",
    "test['day_b']= test['day_b'].astype(str).astype(int)"
   ]
  },
  {
   "cell_type": "code",
   "execution_count": 50,
   "metadata": {
    "collapsed": true
   },
   "outputs": [],
   "source": [
    "test['old'] = test['year']-test['year_b']"
   ]
  },
  {
   "cell_type": "code",
   "execution_count": 51,
   "metadata": {
    "collapsed": true
   },
   "outputs": [],
   "source": [
    "# feature transformation\n",
    "#test['bless'] = np.log(test['bless'])\n",
    "#test['Capital'] = 1/ train['Capital']"
   ]
  },
  {
   "cell_type": "code",
   "execution_count": 52,
   "metadata": {},
   "outputs": [
    {
     "data": {
      "text/plain": [
       "\"test['Dock'] = np.log(test['Dock'])\\ntest['River'] =np.log(test['River'])\\ntest['Royal Market'] = np.log(test['Royal Market'])\\ntest['Guarding_tower'] = np.log(test['Guarding_tower'])\""
      ]
     },
     "execution_count": 52,
     "metadata": {},
     "output_type": "execute_result"
    }
   ],
   "source": [
    "# log transforming the columns for improving symmetry of distribution.\n",
    "'''test['Dock'] = np.log(test['Dock'])\n",
    "test['River'] =np.log(test['River'])\n",
    "test['Royal Market'] = np.log(test['Royal Market'])\n",
    "test['Guarding_tower'] = np.log(test['Guarding_tower'])'''"
   ]
  },
  {
   "cell_type": "code",
   "execution_count": 53,
   "metadata": {
    "collapsed": true
   },
   "outputs": [],
   "source": [
    "#selecting the same features as used in training model.\n",
    "W = test[['dining','River','bathrooms','old','farm','bedrooms','bless','Dock','curse','Location','Capital','Royal Market','Guarding_tower','holy_tree','renovation','year','day','day_b','year_b']]"
   ]
  },
  {
   "cell_type": "code",
   "execution_count": 54,
   "metadata": {
    "collapsed": true
   },
   "outputs": [],
   "source": [
    "# predicting on test dataset\n",
    "predict_1t= model_1.predict(W) "
   ]
  },
  {
   "cell_type": "code",
   "execution_count": 55,
   "metadata": {
    "collapsed": true
   },
   "outputs": [],
   "source": [
    "predict_2t = model_2.predict(W) # LinearRegression >>>final submission"
   ]
  },
  {
   "cell_type": "code",
   "execution_count": 56,
   "metadata": {
    "collapsed": true
   },
   "outputs": [],
   "source": [
    "idx =train['House ID']"
   ]
  },
  {
   "cell_type": "code",
   "execution_count": 57,
   "metadata": {
    "collapsed": true
   },
   "outputs": [],
   "source": [
    "# generating csv file for submission.\n",
    "columns =['Golden Grains']\n",
    "submit = pd.DataFrame(data= predict_1t,columns=columns)\n",
    "submit['House ID']=idx\n",
    "submit = submit[['House ID','Golden Grains']]\n",
    "submit.to_csv(\"RFRSOLUTION.csv\",index=False) #  RFR() solution"
   ]
  },
  {
   "cell_type": "code",
   "execution_count": 68,
   "metadata": {
    "collapsed": true
   },
   "outputs": [],
   "source": [
    "# generating csv file for submission.\n",
    "columns =['Golden Grains']\n",
    "submit = pd.DataFrame(data= predict_2t,columns=columns)\n",
    "submit['House ID']=idx\n",
    "submit = submit[['House ID','Golden Grains']]\n",
    "submit.to_csv(\"lRSOLUTION.csv\",index=False) #  lR() solution>>> final submission"
   ]
  }
 ],
 "metadata": {
  "kernelspec": {
   "display_name": "Python 2",
   "language": "python",
   "name": "python2"
  },
  "language_info": {
   "codemirror_mode": {
    "name": "ipython",
    "version": 2
   },
   "file_extension": ".py",
   "mimetype": "text/x-python",
   "name": "python",
   "nbconvert_exporter": "python",
   "pygments_lexer": "ipython2",
   "version": "2.7.13"
  }
 },
 "nbformat": 4,
 "nbformat_minor": 2
}
